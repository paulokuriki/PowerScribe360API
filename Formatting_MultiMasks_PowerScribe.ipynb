{
  "nbformat": 4,
  "nbformat_minor": 0,
  "metadata": {
    "colab": {
      "private_outputs": true,
      "provenance": [],
      "authorship_tag": "ABX9TyPZG+UGx1T+p/BzWeGHZ4QK",
      "include_colab_link": true
    },
    "kernelspec": {
      "name": "python3",
      "display_name": "Python 3"
    },
    "language_info": {
      "name": "python"
    }
  },
  "cells": [
    {
      "cell_type": "markdown",
      "metadata": {
        "id": "view-in-github",
        "colab_type": "text"
      },
      "source": [
        "<a href=\"https://colab.research.google.com/github/paulokuriki/PowerScribe360API/blob/master/Formatting_MultiMasks_PowerScribe.ipynb\" target=\"_parent\"><img src=\"https://colab.research.google.com/assets/colab-badge.svg\" alt=\"Open In Colab\"/></a>"
      ]
    },
    {
      "cell_type": "code",
      "execution_count": null,
      "metadata": {
        "id": "DM_zaVGjP2yG"
      },
      "outputs": [],
      "source": [
        "report = '''\n",
        "EXAM: MR BRAIN LIMITED W AND WO CONTRAST\n",
        "\n",
        "HISTORY:    -old Unknown with\n",
        "\n",
        "TECHNIQUE: Multisequence and multiplanar imaging of the brain without contrast.\n",
        "\n",
        "COMPARISON: None\n",
        "\n",
        "FINDINGS:\n",
        "    The diffusion weighted images demonstrate no evidence of acute infarct. There is no hydrocephalus, acute hemorrhage, mass effect, midline shift, or extra axial fluid collection. Midline structures are within normal limits. The paranasal sinuses are clear.\n",
        "\n",
        "IMPRESSION:\n",
        "Unremarkable MRI of brain without contrast.\n",
        "\n",
        "RECOMMENDATIONS: No additional recommendations.\n",
        "\n",
        "EXAM: MR CERVICAL SPINE WO IV CONTRAST\n",
        "EXAM: MR LUMBAR SPINE WO IV CONTRAST\n",
        "\n",
        "HISTORY:     -old Unknown with\n",
        "\n",
        "TECHNIQUE: Multisequence and multiplanar imaging of the cervical and lumbar spine without IV contrast.\n",
        "\n",
        "COMPARISON: None\n",
        "\n",
        "FINDINGS:\n",
        "Cervical Spine:\n",
        "    Alignment and vertebral body heights are maintained. Bone marrow signal is within normal limits. Spinal cord signal is unremarkable.\n",
        "\n",
        "Evaluation of disc levels as follows:\n",
        "C2-3: Unremarkable.\n",
        "\n",
        "C3-4: Unremarkable.\n",
        "\n",
        "C4-5: Unremarkable.\n",
        "\n",
        "C5-6: Unremarkable.\n",
        "\n",
        "C6-7: Unremarkable.\n",
        "\n",
        "C7-T1: Unremarkable.\n",
        "\n",
        "Lumbar Spine:\n",
        "    Alignment and vertebral body heights are maintained. Bone marrow signal is within normal limits. Conus terminates at     level.\n",
        "\n",
        "Evaluation of disc levels as follows:\n",
        "L1-2: Unremarkable\n",
        "\n",
        "L2-3: Unremarkable\n",
        "\n",
        "L3-4: Unremarkable\n",
        "\n",
        "L4-5: Unremarkable\n",
        "\n",
        "L5-S1: Unremarkable\n",
        "\n",
        "IMPRESSION:\n",
        "Unremarkable MRI of cervical and lumbar spine without contrast.\n",
        "\n",
        "RECOMMENDATIONS: No additional recommendations.\n",
        "\n",
        "EXAM: MR BRAIN LIMITED W AND WO CONTRAST\n",
        "\n",
        "HISTORY:    -old Unknown with\n",
        "\n",
        "TECHNIQUE: Multisequence and multiplanar imaging of the brain and orbits with and without IV contrast.     mL of     was administered intravenously.\n",
        "\n",
        "COMPARISON: None\n",
        "\n",
        "FINDINGS:\n",
        "    No abnormal enhancement is noted. Optic nerves show no abnormal enhancement.. The diffusion weighted images demonstrate no evidence of acute infarct. There is no hydrocephalus, acute hemorrhage, mass effect, midline shift, or extra axial fluid collection. Midline structures are within normal limits. The paranasal sinuses are clear.\n",
        "\n",
        "IMPRESSION:\n",
        "Unremarkable MRI of brain and orbits with and without contrast.\n",
        "\n",
        "RECOMMENDATIONS: No additional recommendations.\n",
        "\n",
        "\n",
        "EXAM: MR BRAIN LIMITED W AND WO CONTRAST\n",
        "\n",
        "HISTORY:     -old Unknown with\n",
        "\n",
        "TECHNIQUE: Multisequence and multiplanar imaging of the brain and pituitary gland with and without IV contrast.     mL of     was administered intravenously.\n",
        "\n",
        "COMPARISON: None\n",
        "\n",
        "FINDINGS:\n",
        "The pituitary gland and infundibulum are unremarkable. Optic chiasm shows no abnormality. Cavernous sinuses are within normal limits. The diffusion weighted images demonstrate no evidence of acute infarct. No abnormal enhancement is noted. There is no hydrocephalus, acute hemorrhage, midline shift, or extra axial fluid collection.\n",
        "\n",
        "IMPRESSION:\n",
        "Unremarkable MRI of brain and pituitary gland with and without contrast.\n",
        "\n",
        "RECOMMENDATIONS: No additional recommendations.\n",
        "'''\n",
        "report_lines = report.split('\\n')"
      ]
    },
    {
      "cell_type": "code",
      "source": [
        "# Rewriting the code to address the considerations mentioned\n",
        "import re\n",
        "\n",
        "# Revised approach to filter and categorize lines based on instructions, with improvements\n",
        "dict_sections = {}\n",
        "current_key = None  # To keep track of the current key for lines without a new key\n",
        "\n",
        "for line in report_lines:\n",
        "    if \":\" in line:\n",
        "        # Split the line at the first colon and strip whitespace from key and value\n",
        "        key, value = [part.strip() for part in line.split(':', 1)]\n",
        "        # Check if the key is uppercase and does not match the specified patterns\n",
        "        if key.isupper() and not re.match(r'^([CTLS]\\d{1,2}-[CTLS]?\\d{1,2})$', key):\n",
        "            current_key = key.strip() + \":\"  # Update current key\n",
        "            if current_key not in dict_sections:\n",
        "                dict_sections[current_key] = []\n",
        "        else:\n",
        "            current_key = ''\n",
        "        # Append the value if the line is associated with a key, ensuring not to duplicate entries\n",
        "        if current_key and value and value not in dict_sections[current_key]:\n",
        "            dict_sections[current_key].append(value)\n",
        "\n",
        "# By using this approach, we maintain the order of entries and avoid unnecessary deduplication steps.\n",
        "dict_sections"
      ],
      "metadata": {
        "id": "bT1573SxQTDp"
      },
      "execution_count": null,
      "outputs": []
    },
    {
      "cell_type": "code",
      "source": [
        "# Adjusting the approach to correctly categorize \"IMPRESSION\" as a separate key from \"FINDINGS\"\n",
        "\n",
        "# Reinitializing to handle both \"FINDINGS\" and \"IMPRESSION\" correctly\n",
        "structured_report_dict = {}\n",
        "\n",
        "current_exam = None\n",
        "current_category = None  # To track whether we are in FINDINGS or IMPRESSION or another section\n",
        "\n",
        "for line in report_lines:\n",
        "    if \"EXAM:\" in line:\n",
        "        # Extract the exam type from the line\n",
        "        current_exam = line.split(\":\", 1)[1].strip()\n",
        "        if current_exam not in structured_report_dict:\n",
        "            structured_report_dict[current_exam] = {}\n",
        "        current_category = None  # Reset current category when a new exam starts\n",
        "    elif \"FINDINGS:\" in line or \"IMPRESSION:\" in line:\n",
        "        # Identify and set the current category based on the line content\n",
        "        current_category = line.split(\":\", 1)[0].strip()\n",
        "        if current_category and current_exam:\n",
        "            structured_report_dict[current_exam][current_category] = []\n",
        "    elif current_exam and current_category:\n",
        "        # Append the line to the current category of the current exam\n",
        "        structured_report_dict[current_exam][current_category].append(line.strip())\n",
        "\n",
        "import json\n",
        "# Now, the report is structured with \"FINDINGS\" and \"IMPRESSION\" as separate keys under each exam\n",
        "print(json.dumps(structured_report_dict, indent=2))\n"
      ],
      "metadata": {
        "id": "SD59FXEnT0Ly"
      },
      "execution_count": null,
      "outputs": []
    },
    {
      "cell_type": "code",
      "source": [
        "for section, sec_items in dict_sections.items():\n",
        "    print(section)\n",
        "    if sec_items == []:\n",
        "        for exam, value in structured_report_dict.items():\n",
        "            print(structured_report_dict.get(exam, {}).get(section))\n",
        "        #for lines in structured_report_dict.get('EXAM:', {}).get(section, []).values():\n",
        "        #    print(lines)\n",
        "    for item in sec_items:\n",
        "        #print(f'{section} {item}')\n",
        "        pass\n",
        "    print('')"
      ],
      "metadata": {
        "id": "1re2LLqXa33s"
      },
      "execution_count": null,
      "outputs": []
    },
    {
      "cell_type": "code",
      "source": [
        ":"
      ],
      "metadata": {
        "id": "GztjIxfqx2h6"
      },
      "execution_count": null,
      "outputs": []
    }
  ]
}